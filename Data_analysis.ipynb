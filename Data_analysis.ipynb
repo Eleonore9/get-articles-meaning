{
 "cells": [
  {
   "cell_type": "code",
   "execution_count": 2,
   "metadata": {
    "collapsed": false
   },
   "outputs": [],
   "source": [
    "import json\n",
    "import matplotlib.pyplot as plt\n",
    "import numpy as np\n",
    "import scipy as sp\n",
    "from scipy import stats\n",
    "import sklearn\n",
    "\n",
    "%matplotlib inline\n",
    "plt.style.use('ggplot')"
   ]
  },
  {
   "cell_type": "code",
   "execution_count": 3,
   "metadata": {
    "collapsed": false
   },
   "outputs": [],
   "source": [
    "with open(\"filenames_topics.json\", 'r') as f:\n",
    "        topics_articles = json.load(f)"
   ]
  },
  {
   "cell_type": "code",
   "execution_count": 4,
   "metadata": {
    "collapsed": false
   },
   "outputs": [
    {
     "data": {
      "text/plain": [
       "[u'Neuroscience', u'Cell biology']"
      ]
     },
     "execution_count": 4,
     "metadata": {},
     "output_type": "execute_result"
    }
   ],
   "source": [
    "topics_articles.keys()"
   ]
  },
  {
   "cell_type": "code",
   "execution_count": 5,
   "metadata": {
    "collapsed": false
   },
   "outputs": [
    {
     "name": "stdout",
     "output_type": "stream",
     "text": [
      "2392\n",
      "['article', 'subject', u'scale', u'antibody', u'arrow', u'indicate', u'nonspecific', u'mutant', u'receptive', u'signal', u'junction', u'epithelial', u'hand', u'reduced', u'arm', u'higher', u'hand', u'behaviour', u'white', u'matter']\n"
     ]
    }
   ],
   "source": [
    "header = ['article', 'subject']\n",
    "\n",
    "for subject, articles in topics_articles.iteritems():\n",
    "    for pub_id, topics in articles.iteritems():\n",
    "        header.extend(topics)        \n",
    "        \n",
    "print len(header)\n",
    "print header[:20]"
   ]
  },
  {
   "cell_type": "code",
   "execution_count": 6,
   "metadata": {
    "collapsed": false
   },
   "outputs": [
    {
     "name": "stdout",
     "output_type": "stream",
     "text": [
      "239\n",
      "2392 2392 2392\n",
      "[u'elife05116', u'Neuroscience', '1', '1', '1', '1', '1', '1', '1', '1', '1', '1', '0', '0', '0', '0', '0', '0', '0', '0']\n"
     ]
    }
   ],
   "source": [
    "top_data = []\n",
    "\n",
    "for subject, articles in topics_articles.iteritems():\n",
    "    for pub_id, topics in articles.iteritems():        \n",
    "        ct = []\n",
    "        ct.append(pub_id)\n",
    "        ct.append(subject)\n",
    "        tpcs = ['1' if h in topics else '0' for h in header[2:]]\n",
    "        ct.extend(tpcs)\n",
    "        top_data.append(ct)\n",
    "        \n",
    "print len(top_data)\n",
    "print len(top_data[0]), len(top_data[50]), len(top_data[100])\n",
    "print top_data[0][:20]"
   ]
  },
  {
   "cell_type": "code",
   "execution_count": 7,
   "metadata": {
    "collapsed": false
   },
   "outputs": [
    {
     "name": "stdout",
     "output_type": "stream",
     "text": [
      "[[u'elife05116' u'Neuroscience' u'1' ..., u'0' u'0' u'0']\n",
      " [u'elife02094' u'Neuroscience' u'0' ..., u'0' u'0' u'0']\n",
      " [u'elife01206' u'Neuroscience' u'0' ..., u'0' u'0' u'0']\n",
      " ..., \n",
      " [u'elife04810' u'Cell biology' u'0' ..., u'0' u'0' u'0']\n",
      " [u'elife02678' u'Cell biology' u'0' ..., u'0' u'0' u'0']\n",
      " [u'elife05697' u'Cell biology' u'1' ..., u'1' u'1' u'1']]\n"
     ]
    }
   ],
   "source": [
    "topics_data = np.array(top_data)\n",
    "print topics_data"
   ]
  },
  {
   "cell_type": "code",
   "execution_count": 8,
   "metadata": {
    "collapsed": false
   },
   "outputs": [],
   "source": [
    "## Data matrix: column 3 to the end\n",
    "X = topics_data[:, 2:2392].astype(int)\n",
    "## Class vector: column 2\n",
    "Y = topics_data[:, 1]   "
   ]
  },
  {
   "cell_type": "code",
   "execution_count": 9,
   "metadata": {
    "collapsed": false
   },
   "outputs": [
    {
     "name": "stdout",
     "output_type": "stream",
     "text": [
      "X dimension:  (239, 2390)\n",
      "Y dimension:  (239,)\n"
     ]
    }
   ],
   "source": [
    "print \"X dimension: \", X.shape\n",
    "print \"Y dimension: \", Y.shape"
   ]
  },
  {
   "cell_type": "code",
   "execution_count": 10,
   "metadata": {
    "collapsed": false
   },
   "outputs": [
    {
     "name": "stdout",
     "output_type": "stream",
     "text": [
      "[[u'Cell biology' u'67']\n",
      " [u'Neuroscience' u'172']]\n"
     ]
    }
   ],
   "source": [
    "Yfreq = sp.stats.itemfreq(Y)\n",
    "print Yfreq\n",
    "cb_total = int(Yfreq[0][1])\n",
    "n_total = int(Yfreq[1][1])"
   ]
  },
  {
   "cell_type": "code",
   "execution_count": 18,
   "metadata": {
    "collapsed": false
   },
   "outputs": [
    {
     "name": "stdout",
     "output_type": "stream",
     "text": [
      "67\n",
      "3 67\n"
     ]
    },
    {
     "data": {
      "text/plain": [
       "<matplotlib.text.Text at 0x7f82273d0850>"
      ]
     },
     "execution_count": 18,
     "metadata": {},
     "output_type": "execute_result"
    },
    {
     "data": {
      "image/png": "[encoded data removed]",
      "text/plain": [
       "<matplotlib.figure.Figure at 0x7f8226ec59d0>"
      ]
     },
     "metadata": {},
     "output_type": "display_data"
    }
   ],
   "source": [
    "a = header[2]\n",
    "a_rep = topics_data[:, 1:3]\n",
    "a_freq = sp.stats.itemfreq(a_rep)\n",
    "\n",
    "cb = [int(i[1]) for i in a_rep if i[0]=='Cell biology']\n",
    "n = [int(i[1]) for i in a_rep if i[0]=='Neuroscience']\n",
    "\n",
    "cb_freq = sum(cb)*100./cb_total\n",
    "n_freq =sum(n)*100./n_total\n",
    "\n",
    "plt.bar(left = 0, height = cb_freq, color='#A770BF')\n",
    "plt.bar(left = 1, height = n_freq, color='#81ABD3')\n",
    "plt.xlabel(\"Cell biology and Neuroscience\")\n",
    "plt.ylabel(\"Percent of importance for the term \\\"%s\\\"\" %a)"
   ]
  },
  {
   "cell_type": "code",
   "execution_count": 12,
   "metadata": {
    "collapsed": false
   },
   "outputs": [
    {
     "data": {
      "text/plain": [
       "<matplotlib.text.Text at 0x7f82272f5c50>"
      ]
     },
     "execution_count": 12,
     "metadata": {},
     "output_type": "execute_result"
    },
    {
     "data": {
      "image/png": "[encoded data removed]",
      "text/plain": [
       "<matplotlib.figure.Figure at 0x7f8248722f90>"
      ]
     },
     "metadata": {},
     "output_type": "display_data"
    }
   ],
   "source": [
    "b = header[3]\n",
    "b_rep = topics_data[:, (1, 4)]\n",
    "b_freq = sp.stats.itemfreq(b_rep)\n",
    "\n",
    "cb = [int(i[1]) for i in b_rep if i[0]=='Cell biology']\n",
    "n = [int(i[1]) for i in b_rep if i[0]=='Neuroscience']\n",
    "\n",
    "cb_freq = sum(cb)*100./cb_total\n",
    "n_freq = sum(n)*100./n_total\n",
    "\n",
    "plt.bar(left = 0, height = cb_freq, color='#A770BF')\n",
    "plt.bar(left = 1, height = n_freq, color='#81ABD3')\n",
    "plt.xlabel(\"Cell biology and Neuroscience\")\n",
    "plt.ylabel(\"Percent of importance for the term \\\"%s\\\"\" %b)"
   ]
  },
  {
   "cell_type": "code",
   "execution_count": 71,
   "metadata": {
    "collapsed": false
   },
   "outputs": [
    {
     "data": {
      "image/png": "[encoded data removed]",
      "text/plain": [
       "<matplotlib.figure.Figure at 0x7f8226020690>"
      ]
     },
     "metadata": {},
     "output_type": "display_data"
    }
   ],
   "source": [
    "freqs_cb, freqs_n = [], []\n",
    "R, N = range(3, 15, 2), len(range(3, 15, 2))\n",
    "\n",
    "for j in R:\n",
    "    cb = [int(i[1]) for i in topics_data[:, (1, j)] if i[0]=='Cell biology']\n",
    "    n = [int(i[1]) for i in topics_data[:, (1, j)] if i[0]=='Neuroscience']\n",
    "    cb_freq = sum(cb)*100./cb_total\n",
    "    n_freq = sum(n)*100./n_total\n",
    "    freqs_cb.append(cb_freq)\n",
    "    freqs_n.append(n_freq)\n",
    "\n",
    "ind = np.arange(N)\n",
    "width = 0.3\n",
    "fig, ax = plt.subplots()\n",
    "rects_cb = ax.bar(ind, freqs_cb, width, color='#A770BF')\n",
    "rects_n = ax.bar(ind+width, freqs_n, width, color='#81ABD3')\n",
    "\n",
    "ax.set_ylabel('Percentage of occurence')\n",
    "ax.set_title('Occurence of frequent term in Cell biology vs Neuroscience')\n",
    "ax.set_xticks(ind+width)\n",
    "xlabels = [header[i] for i in R]\n",
    "ax.set_xticklabels(xlabels)\n",
    "ax.legend((rects_cb[0], rects_n[0]), ('Cell biology', 'Neuroscience'))\n",
    "\n",
    "fig.subplots_adjust(right=2)\n",
    "#ax = fig.add_subplot(111)"
   ]
  },
  {
   "cell_type": "code",
   "execution_count": 48,
   "metadata": {
    "collapsed": false
   },
   "outputs": [
    {
     "data": {
      "image/png": "[encoded data removed]",
      "text/plain": [
       "<matplotlib.figure.Figure at 0x7f715577c750>"
      ]
     },
     "metadata": {},
     "output_type": "display_data"
    }
   ],
   "source": [
    "correlation_matrix = np.corrcoef(X[:,2:50], rowvar=0)\n",
    "fig, ax = plt.subplots()\n",
    "heatmap = ax.pcolor(correlation_matrix, cmap = plt.cm.Blues)"
   ]
  },
  {
   "cell_type": "code",
   "execution_count": 72,
   "metadata": {
    "collapsed": true
   },
   "outputs": [],
   "source": [
    "from sklearn.naive_bayes import GaussianNB"
   ]
  },
  {
   "cell_type": "code",
   "execution_count": 74,
   "metadata": {
    "collapsed": false
   },
   "outputs": [],
   "source": [
    "nbmodel = GaussianNB().fit(X, Y)\n",
    "pred = nbmodel.predict(X)"
   ]
  },
  {
   "cell_type": "code",
   "execution_count": null,
   "metadata": {
    "collapsed": true
   },
   "outputs": [],
   "source": []
  }
 ],
 "metadata": {
  "kernelspec": {
   "display_name": "Python 2",
   "language": "python",
   "name": "python2"
  },
  "language_info": {
   "codemirror_mode": {
    "name": "ipython",
    "version": 2
   },
   "file_extension": ".py",
   "mimetype": "text/x-python",
   "name": "python",
   "nbconvert_exporter": "python",
   "pygments_lexer": "ipython2",
   "version": "2.7.6"
  }
 },
 "nbformat": 4,
 "nbformat_minor": 0
}
