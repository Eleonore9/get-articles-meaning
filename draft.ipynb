{
 "cells": [
  {
   "cell_type": "code",
   "execution_count": 52,
   "metadata": {
    "collapsed": false
   },
   "outputs": [],
   "source": [
    "import json\n",
    "import matplotlib.pyplot as plt\n",
    "import numpy as np\n",
    "import scipy as sp\n",
    "from scipy import stats\n",
    "import sklearn\n",
    "\n",
    "%matplotlib inline\n",
    "plt.style.use('ggplot')"
   ]
  },
  {
   "cell_type": "code",
   "execution_count": 36,
   "metadata": {
    "collapsed": false
   },
   "outputs": [],
   "source": [
    "with open(\"filenames_topics.json\", 'r') as f:\n",
    "        topics_articles = json.load(f)"
   ]
  },
  {
   "cell_type": "code",
   "execution_count": 37,
   "metadata": {
    "collapsed": false
   },
   "outputs": [
    {
     "data": {
      "text/plain": [
       "[u'Neuroscience', u'Cell biology']"
      ]
     },
     "execution_count": 37,
     "metadata": {},
     "output_type": "execute_result"
    }
   ],
   "source": [
    "topics_articles.keys()"
   ]
  },
  {
   "cell_type": "code",
   "execution_count": 38,
   "metadata": {
    "collapsed": false
   },
   "outputs": [
    {
     "name": "stdout",
     "output_type": "stream",
     "text": [
      "2392\n",
      "['article', 'subject', u'scale', u'antibody', u'arrow', u'indicate', u'nonspecific', u'mutant', u'receptive', u'signal', u'junction', u'epithelial', u'hand', u'reduced', u'arm', u'higher', u'hand', u'behaviour', u'white', u'matter']\n"
     ]
    }
   ],
   "source": [
    "header = ['article', 'subject']\n",
    "\n",
    "for subject, articles in topics_articles.iteritems():\n",
    "    for pub_id, topics in articles.iteritems():\n",
    "        header.extend(topics)        \n",
    "        \n",
    "print len(header)\n",
    "print header[:20]"
   ]
  },
  {
   "cell_type": "code",
   "execution_count": 39,
   "metadata": {
    "collapsed": false
   },
   "outputs": [
    {
     "name": "stdout",
     "output_type": "stream",
     "text": [
      "239\n",
      "2392 2392 2392\n",
      "[u'elife05116', u'Neuroscience', '1', '1', '1', '1', '1', '1', '1', '1', '1', '1', '0', '0', '0', '0', '0', '0', '0', '0']\n"
     ]
    }
   ],
   "source": [
    "top_data = []\n",
    "\n",
    "for subject, articles in topics_articles.iteritems():\n",
    "    for pub_id, topics in articles.iteritems():        \n",
    "        ct = []\n",
    "        ct.append(pub_id)\n",
    "        ct.append(subject)\n",
    "        tpcs = ['1' if h in topics else '0' for h in header[2:]]\n",
    "        ct.extend(tpcs)\n",
    "        top_data.append(ct)\n",
    "        \n",
    "print len(top_data)\n",
    "print len(top_data[0]), len(top_data[50]), len(top_data[100])\n",
    "print top_data[0][:20]"
   ]
  },
  {
   "cell_type": "code",
   "execution_count": 40,
   "metadata": {
    "collapsed": false
   },
   "outputs": [
    {
     "name": "stdout",
     "output_type": "stream",
     "text": [
      "[[u'elife05116' u'Neuroscience' u'1' ..., u'0' u'0' u'0']\n",
      " [u'elife02094' u'Neuroscience' u'0' ..., u'0' u'0' u'0']\n",
      " [u'elife01206' u'Neuroscience' u'0' ..., u'0' u'0' u'0']\n",
      " ..., \n",
      " [u'elife04810' u'Cell biology' u'0' ..., u'0' u'0' u'0']\n",
      " [u'elife02678' u'Cell biology' u'0' ..., u'0' u'0' u'0']\n",
      " [u'elife05697' u'Cell biology' u'1' ..., u'1' u'1' u'1']]\n"
     ]
    }
   ],
   "source": [
    "topics_data = np.array(top_data)\n",
    "print topics_data"
   ]
  },
  {
   "cell_type": "code",
   "execution_count": 56,
   "metadata": {
    "collapsed": false
   },
   "outputs": [],
   "source": [
    "## Data matrix: column 3 to the end\n",
    "X = topics_data[:, 2:2392].astype(int)\n",
    "## Class vector: column 2\n",
    "Y = topics_data[:, 1]   "
   ]
  },
  {
   "cell_type": "code",
   "execution_count": 57,
   "metadata": {
    "collapsed": false
   },
   "outputs": [
    {
     "name": "stdout",
     "output_type": "stream",
     "text": [
      "X dimension:  (239, 2390)\n",
      "Y dimension:  (239,)\n"
     ]
    }
   ],
   "source": [
    "print \"X dimension: \", X.shape\n",
    "print \"Y dimension: \", Y.shape"
   ]
  },
  {
   "cell_type": "code",
   "execution_count": 55,
   "metadata": {
    "collapsed": false
   },
   "outputs": [
    {
     "name": "stdout",
     "output_type": "stream",
     "text": [
      "[[u'Cell biology' u'67']\n",
      " [u'Neuroscience' u'172']]\n"
     ]
    }
   ],
   "source": [
    "Yfreq = sp.stats.itemfreq(Y)\n",
    "print Yfreq"
   ]
  },
  {
   "cell_type": "code",
   "execution_count": null,
   "metadata": {
    "collapsed": true
   },
   "outputs": [],
   "source": []
  }
 ],
 "metadata": {
  "kernelspec": {
   "display_name": "Python 2",
   "language": "python",
   "name": "python2"
  },
  "language_info": {
   "codemirror_mode": {
    "name": "ipython",
    "version": 2
   },
   "file_extension": ".py",
   "mimetype": "text/x-python",
   "name": "python",
   "nbconvert_exporter": "python",
   "pygments_lexer": "ipython2",
   "version": "2.7.6"
  }
 },
 "nbformat": 4,
 "nbformat_minor": 0
}
