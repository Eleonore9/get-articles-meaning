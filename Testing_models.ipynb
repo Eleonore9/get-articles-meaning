{
 "cells": [
  {
   "cell_type": "code",
   "execution_count": 5,
   "metadata": {
    "collapsed": true
   },
   "outputs": [],
   "source": [
    "import json\n",
    "import matplotlib.pyplot as plt\n",
    "import numpy as np\n",
    "import scipy as sp\n",
    "from scipy import stats\n",
    "import sklearn\n",
    "\n",
    "%matplotlib inline\n",
    "plt.style.use('ggplot')"
   ]
  },
  {
   "cell_type": "code",
   "execution_count": 6,
   "metadata": {
    "collapsed": true
   },
   "outputs": [],
   "source": [
    "with open(\"json/filenames_topics.json\", 'r') as f:\n",
    "        topics_articles = json.load(f)"
   ]
  },
  {
   "cell_type": "code",
   "execution_count": 7,
   "metadata": {
    "collapsed": false
   },
   "outputs": [
    {
     "name": "stdout",
     "output_type": "stream",
     "text": [
      "['article', 'subject', u'scale', u'detected', u'inset', u'could', u'scale', u'rnai', u'antiphosphoret', u'development', u'control', u'receptor', u'reduced', u'hand', u'reduced', u'compensatory', u'symmetry', u'white', u'matter', u'higher']\n"
     ]
    }
   ],
   "source": [
    "header = ['article', 'subject']\n",
    "\n",
    "for subject, articles in topics_articles.iteritems():\n",
    "    for pub_id, topics in articles.iteritems():\n",
    "        header.extend(topics)        \n",
    "\n",
    "print header[:20]"
   ]
  },
  {
   "cell_type": "code",
   "execution_count": 8,
   "metadata": {
    "collapsed": false
   },
   "outputs": [
    {
     "name": "stdout",
     "output_type": "stream",
     "text": [
      "[[u'elife05116' u'Neuroscience' u'1' ..., u'0' u'0' u'0']\n",
      " [u'elife02094' u'Neuroscience' u'0' ..., u'0' u'0' u'0']\n",
      " [u'elife01206' u'Neuroscience' u'0' ..., u'0' u'0' u'0']\n",
      " ..., \n",
      " [u'elife04810' u'Cell biology' u'0' ..., u'0' u'0' u'0']\n",
      " [u'elife02678' u'Cell biology' u'0' ..., u'0' u'0' u'0']\n",
      " [u'elife05697' u'Cell biology' u'1' ..., u'1' u'1' u'1']]\n"
     ]
    }
   ],
   "source": [
    "top_data = []\n",
    "\n",
    "for subject, articles in topics_articles.iteritems():\n",
    "    for pub_id, topics in articles.iteritems():        \n",
    "        ct = []\n",
    "        ct.append(pub_id)\n",
    "        ct.append(subject)\n",
    "        tpcs = ['1' if h in topics else '0' for h in header[2:]]\n",
    "        ct.extend(tpcs)\n",
    "        top_data.append(ct)\n",
    "        \n",
    "topics_data = np.array(top_data)\n",
    "print topics_data"
   ]
  },
  {
   "cell_type": "code",
   "execution_count": 9,
   "metadata": {
    "collapsed": true
   },
   "outputs": [],
   "source": [
    "## Data matrix: column 3 to the end\n",
    "X = topics_data[:, 2:2392].astype(int)\n",
    "## Class vector: column 2\n",
    "Y = topics_data[:, 1] "
   ]
  },
  {
   "cell_type": "code",
   "execution_count": 22,
   "metadata": {
    "collapsed": true
   },
   "outputs": [],
   "source": [
    "from sklearn.naive_bayes import GaussianNB, BernoulliNB, MultinomialNB\n",
    "from sklearn import metrics, preprocessing\n",
    "from sklearn.cross_validation import train_test_split\n",
    "\n",
    "## Encode labels ('Cell biology', 'Neuroscience') as 0 and 1.\n",
    "le = preprocessing.LabelEncoder()\n",
    "le.fit(Y)\n",
    "y_transformed = le.transform(Y)\n",
    "#print Y\n",
    "#print y_transformed\n",
    "## => 1: Neuroscience, 0: Cell biology\n",
    "\n",
    "## Randomly split the data between training and testing:\n",
    "X_train, X_test, Y_train, Y_test = train_test_split(X, y_transformed)"
   ]
  },
  {
   "cell_type": "code",
   "execution_count": 23,
   "metadata": {
    "collapsed": false
   },
   "outputs": [
    {
     "name": "stdout",
     "output_type": "stream",
     "text": [
      "True positive:  10  - False negative:  6\n",
      "False positive:  4  - True negative:  40\n",
      "             precision    recall  f1-score   support\n",
      "\n",
      "          0       0.71      0.62      0.67        16\n",
      "          1       0.87      0.91      0.89        44\n",
      "\n",
      "avg / total       0.83      0.83      0.83        60\n",
      "\n",
      "Accuracy:  0.833333333333\n"
     ]
    }
   ],
   "source": [
    "## Gaussian NB classifier\n",
    "nbmodel_train = GaussianNB().fit(X_train, Y_train)\n",
    "predicted_gnb = nbmodel_train.predict(X_test)\n",
    "\n",
    "## Confusion matrix:\n",
    "cm_gnb = metrics.confusion_matrix(Y_test, predicted_gnb)\n",
    "print \"True positive: \", cm_gnb[0][0],\" - False negative: \", cm_gnb[0][1]\n",
    "print \"False positive: \", cm_gnb[1][0], \" - True negative: \", cm_gnb[1][1]\n",
    "\n",
    "# Precision: fraction of retrieved instances that are relevant, TP / TP + FP\n",
    "# Recall: fraction of relevant instances that are retrieved\n",
    "print metrics.classification_report(Y_test, predicted_gnb)\n",
    "\n",
    "# Accuracy: overall correctness of the model\n",
    "print \"Accuracy: \", metrics.accuracy_score(Y_test, predicted_gnb) "
   ]
  },
  {
   "cell_type": "code",
   "execution_count": 24,
   "metadata": {
    "collapsed": true
   },
   "outputs": [],
   "source": [
    "## => Test with a high precision and recall for class 1 = Neuroscience"
   ]
  },
  {
   "cell_type": "code",
   "execution_count": 26,
   "metadata": {
    "collapsed": false
   },
   "outputs": [
    {
     "name": "stdout",
     "output_type": "stream",
     "text": [
      " True positive:  10  - False negative:  6\n",
      "False positive:  4  - True negative:  40\n",
      "             precision    recall  f1-score   support\n",
      "\n",
      "          0       0.54      0.88      0.67        16\n",
      "          1       0.94      0.73      0.82        44\n",
      "\n",
      "avg / total       0.83      0.77      0.78        60\n",
      "\n",
      "Accuracy:  0.766666666667\n"
     ]
    }
   ],
   "source": [
    "## Multinomial NB classifier\n",
    "nbmodel_train = MultinomialNB().fit(X_train, Y_train)\n",
    "predicted_mnb = nbmodel_train.predict(X_test)\n",
    "\n",
    "## Confusion matrix:\n",
    "cm_mnb = metrics.confusion_matrix(Y_test, predicted_gnb)\n",
    "print \"True positive: \", cm_mnb[0][0],\" - False negative: \", cm_mnb[0][1]\n",
    "print \"False positive: \", cm_mnb[1][0], \" - True negative: \", cm_mnb[1][1]\n",
    "\n",
    "# Precision: fraction of retrieved instances that are relevant, TP / TP + FP\n",
    "# Recall: fraction of relevant instances that are retrieved\n",
    "print metrics.classification_report(Y_test, predicted_mnb)\n",
    "\n",
    "# Accuracy: overall correctness of the model\n",
    "print \"Accuracy: \", metrics.accuracy_score(Y_test, predicted_mnb) "
   ]
  },
  {
   "cell_type": "code",
   "execution_count": 20,
   "metadata": {
    "collapsed": false
   },
   "outputs": [
    {
     "name": "stdout",
     "output_type": "stream",
     "text": [
      "True positive:  10  - False negative:  9\n",
      "False positive:  4  - True negative:  37\n",
      "             precision    recall  f1-score   support\n",
      "\n",
      "          0       0.89      0.42      0.57        19\n",
      "          1       0.78      0.98      0.87        41\n",
      "\n",
      "avg / total       0.82      0.80      0.78        60\n",
      "\n",
      "Accuracy:  0.8\n"
     ]
    }
   ],
   "source": [
    "## Bernoulli NB classifier\n",
    "\n",
    "nbmodel_train = BernoulliNB().fit(X_train, Y_train)\n",
    "predicted_bnb = nbmodel_train.predict(X_test)\n",
    "\n",
    "## Confusion matrix:\n",
    "cm_bnb = metrics.confusion_matrix(Y_test, predicted_gnb)\n",
    "print \"True positive: \", cm_bnb[0][0],\" - False negative: \", cm_bnb[0][1]\n",
    "print \"False positive: \", cm_bnb[1][0], \" - True negative: \", cm_bnb[1][1]\n",
    "\n",
    "# Precision: fraction of retrieved instances that are relevant, TP / TP + FP\n",
    "# Recall: fraction of relevant instances that are retrieved\n",
    "print metrics.classification_report(Y_test, predicted_bnb)\n",
    "\n",
    "# Accuracy: overall correctness of the model\n",
    "print \"Accuracy: \", metrics.accuracy_score(Y_test, predicted_bnb) "
   ]
  },
  {
   "cell_type": "code",
   "execution_count": 18,
   "metadata": {
    "collapsed": false
   },
   "outputs": [],
   "source": [
    "## K NEAREST NEIGHBOUR classifier\n",
    "from sklearn import metrics\n",
    "from sklearn import neighbors"
   ]
  },
  {
   "cell_type": "code",
   "execution_count": 31,
   "metadata": {
    "collapsed": true
   },
   "outputs": [],
   "source": [
    "knnk3 = neighbors.KNeighborsClassifier(n_neighbors=3).fit(X, y_transformed)\n",
    "predicted_k3 = knnk3.predict(X)\n",
    "\n",
    "knnk5 = neighbors.KNeighborsClassifier(n_neighbors=5).fit(X, y_transformed)\n",
    "predicted_k5 = knnk5.predict(X)\n",
    "\n",
    "knnk15 = neighbors.KNeighborsClassifier(n_neighbors=15).fit(X, y_transformed)\n",
    "predicted_k15 = knnk15.predict(X)"
   ]
  },
  {
   "cell_type": "code",
   "execution_count": 30,
   "metadata": {
    "collapsed": false
   },
   "outputs": [
    {
     "name": "stdout",
     "output_type": "stream",
     "text": [
      "Accuracy 3 NN:  0.882845188285\n",
      "Accuracy 5 NN:  0.811715481172\n"
     ]
    }
   ],
   "source": [
    "print \"Accuracy 3 NN: \", metrics.accuracy_score(y_transformed, predicted_k3)\n",
    "print \"Accuracy 5 NN: \", metrics.accuracy_score(y_transformed, predicted_k5)\n",
    "print \"Accuracy 15 NN: \", metrics.accuracy_score(y_transformed, predicted_k15)"
   ]
  },
  {
   "cell_type": "code",
   "execution_count": 34,
   "metadata": {
    "collapsed": false
   },
   "outputs": [
    {
     "name": "stdout",
     "output_type": "stream",
     "text": [
      "True positive:  10  - False negative:  6\n",
      "False positive:  4  - True negative:  40\n"
     ]
    }
   ],
   "source": [
    "X_train, X_test, Y_train, Y_test = train_test_split(X, y_transformed)\n",
    "\n",
    "knn = neighbors.KNeighborsClassifier(n_neighbors=3).fit(X_train, Y_train)\n",
    "predicted_knn = knn.predict(X_test)\n",
    "\n",
    "cm_knn = metrics.confusion_matrix(Y_test, predicted)\n",
    "print \"True positive: \", cm[0][0],\" - False negative: \", cm[0][1]\n",
    "print \"False positive: \", cm[1][0], \" - True negative: \", cm[1][1]"
   ]
  },
  {
   "cell_type": "code",
   "execution_count": null,
   "metadata": {
    "collapsed": true
   },
   "outputs": [],
   "source": []
  }
 ],
 "metadata": {
  "kernelspec": {
   "display_name": "Python 2",
   "language": "python",
   "name": "python2"
  },
  "language_info": {
   "codemirror_mode": {
    "name": "ipython",
    "version": 2
   },
   "file_extension": ".py",
   "mimetype": "text/x-python",
   "name": "python",
   "nbconvert_exporter": "python",
   "pygments_lexer": "ipython2",
   "version": "2.7.6"
  }
 },
 "nbformat": 4,
 "nbformat_minor": 0
}
